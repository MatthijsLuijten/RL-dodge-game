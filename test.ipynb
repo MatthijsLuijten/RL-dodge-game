{
 "cells": [
  {
   "cell_type": "code",
   "execution_count": 7,
   "metadata": {},
   "outputs": [
    {
     "name": "stdout",
     "output_type": "stream",
     "text": [
      "[80.00099992500625, 0.8000099992500624, -42.72393124891001, 170.89572499564005, 0.0, -10.0, 80.00099992500625, 0.8000099992500624, -42.72393124891001, 170.89572499564005, 0.0, -10.0]\n"
     ]
    }
   ],
   "source": [
    "import math\n",
    "\n",
    "import numpy as np\n",
    "from src.enemy import Enemy\n",
    "from src.player import Player\n",
    "\n",
    "player = Player((100,100), 10)\n",
    "\n",
    "enemy_1 = Enemy((101,200), (0,1), 10)\n",
    "enemy_2 = Enemy((300,50), (0,1), 20)\n",
    "enemy_3 = Enemy((50,100), (0,1), 30)\n",
    "\n",
    "closest_enemy_locations = []\n",
    "for enemy in [enemy_1, enemy_2, enemy_3]:\n",
    "    player_pos = np.array(player.location)\n",
    "    enemy_pos = np.array(enemy.location)\n",
    "    distance_centers = np.linalg.norm(player_pos - enemy_pos)\n",
    "    distance_borders = distance_centers - player.size - enemy.size\n",
    "\n",
    "    dy_centers = enemy.location[1] - player.location[1] \n",
    "    dy_borders = dy_centers * distance_borders / distance_centers \n",
    "\n",
    "    dx_centers = enemy.location[0] - player.location[0] \n",
    "    dx_borders = dx_centers * distance_borders / distance_centers \n",
    "\n",
    "\n",
    "    # player_to_enemy_y =  enemy.location[1] - player.location[1] \n",
    "    # if player_to_enemy_y > enemy.size + player.size:\n",
    "    #     player_to_enemy_y -= math.copysign(enemy.size + player.size, player_to_enemy_y)\n",
    "\n",
    "    # player_to_enemy_x =  enemy.location[0] - player.location[0] \n",
    "    # if player_to_enemy_x  > enemy.size + player.size:\n",
    "    #     player_to_enemy_x -= math.copysign(enemy.size + player.size, player_to_enemy_x)\n",
    "    \n",
    "    closest_enemy_locations.extend([math.floor(dy_borders), math.floor(dx_borders)])\n",
    "\n",
    "print(closest_enemy_locations * 2)"
   ]
  }
 ],
 "metadata": {
  "kernelspec": {
   "display_name": "rl-dodge-game",
   "language": "python",
   "name": "python3"
  },
  "language_info": {
   "codemirror_mode": {
    "name": "ipython",
    "version": 3
   },
   "file_extension": ".py",
   "mimetype": "text/x-python",
   "name": "python",
   "nbconvert_exporter": "python",
   "pygments_lexer": "ipython3",
   "version": "3.10.13"
  }
 },
 "nbformat": 4,
 "nbformat_minor": 2
}
